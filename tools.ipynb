{
 "cells": [
  {
   "cell_type": "markdown",
   "metadata": {},
   "source": [
    "Splitting the training and testing dataset"
   ]
  },
  {
   "cell_type": "code",
   "execution_count": 1,
   "metadata": {},
   "outputs": [
    {
     "name": "stdout",
     "output_type": "stream",
     "text": [
      "Training files: 1993 | Testing files: 855\n",
      "Training files: 453 | Testing files: 195\n"
     ]
    }
   ],
   "source": [
    "import os\n",
    "import shutil\n",
    "import random\n",
    "\n",
    "def split_dataset(base_dir, train_ratio=0.7, random_seed=2024):\n",
    "    images_dir = os.path.join(base_dir, 'images')\n",
    "    labels_dir = os.path.join(base_dir, 'labels')\n",
    "\n",
    "    train_images_dir = os.path.join(base_dir, 'train', 'images')\n",
    "    train_labels_dir = os.path.join(base_dir, 'train', 'labels')\n",
    "    test_images_dir = os.path.join(base_dir, 'test', 'images')\n",
    "    test_labels_dir = os.path.join(base_dir, 'test', 'labels')\n",
    "\n",
    "    os.makedirs(train_images_dir, exist_ok=True)\n",
    "    os.makedirs(train_labels_dir, exist_ok=True)\n",
    "    os.makedirs(test_images_dir, exist_ok=True)\n",
    "    os.makedirs(test_labels_dir, exist_ok=True)\n",
    "\n",
    "    image_files = sorted(os.listdir(images_dir))\n",
    "\n",
    "    random.seed(random_seed)\n",
    "    random.shuffle(image_files)\n",
    "\n",
    "    train_size = int(len(image_files) * train_ratio)\n",
    "\n",
    "    train_files = image_files[:train_size]\n",
    "    test_files = image_files[train_size:]\n",
    "\n",
    "    for file in train_files:\n",
    "        shutil.copy(os.path.join(images_dir, file), os.path.join(train_images_dir, file))\n",
    "        label_file = os.path.splitext(file)[0] + '.png' \n",
    "        shutil.copy(os.path.join(labels_dir, label_file), os.path.join(train_labels_dir, label_file))\n",
    "\n",
    "    # 复制测试集文件\n",
    "    for file in test_files:\n",
    "        shutil.copy(os.path.join(images_dir, file), os.path.join(test_images_dir, file))\n",
    "        label_file = os.path.splitext(file)[0] + '.png'\n",
    "        shutil.copy(os.path.join(labels_dir, label_file), os.path.join(test_labels_dir, label_file))\n",
    "\n",
    "    print(f\"Training files: {len(train_files)} | Testing files: {len(test_files)}\")\n",
    "\n",
    "SAT_LDD=\"RLZX-LDD/SAT-LDD\"\n",
    "UAV_LDD=\"RLZX-LDD/UAV-LDD\"\n",
    "split_dataset(SAT_LDD)\n",
    "split_dataset(UAV_LDD)"
   ]
  },
  {
   "cell_type": "markdown",
   "metadata": {},
   "source": [
    "Loading the dataset with training/testing/all mode"
   ]
  },
  {
   "cell_type": "code",
   "execution_count": 11,
   "metadata": {},
   "outputs": [
    {
     "ename": "FileNotFoundError",
     "evalue": "[WinError 3] 系统找不到指定的路径。: 'D:\\\\hunan_github\\\\RLZX-LDD\\\\UAV-LDD\\\\train\\\\DEM_derives\\\\dem'",
     "output_type": "error",
     "traceback": [
      "\u001b[1;31m---------------------------------------------------------------------------\u001b[0m",
      "\u001b[1;31mFileNotFoundError\u001b[0m                         Traceback (most recent call last)",
      "Cell \u001b[1;32mIn[11], line 5\u001b[0m\n\u001b[0;32m      3\u001b[0m SAT\u001b[38;5;241m=\u001b[39m\u001b[38;5;124mr\u001b[39m\u001b[38;5;124m\"\u001b[39m\u001b[38;5;124mD:\u001b[39m\u001b[38;5;124m\\\u001b[39m\u001b[38;5;124mhunan_github\u001b[39m\u001b[38;5;124m\\\u001b[39m\u001b[38;5;124mRLZX-LDD\u001b[39m\u001b[38;5;124m\\\u001b[39m\u001b[38;5;124mSAT-LDD\u001b[39m\u001b[38;5;124m\"\u001b[39m  \n\u001b[0;32m      4\u001b[0m UAV\u001b[38;5;241m=\u001b[39m\u001b[38;5;124mr\u001b[39m\u001b[38;5;124m\"\u001b[39m\u001b[38;5;124mD:\u001b[39m\u001b[38;5;124m\\\u001b[39m\u001b[38;5;124mhunan_github\u001b[39m\u001b[38;5;124m\\\u001b[39m\u001b[38;5;124mRLZX-LDD\u001b[39m\u001b[38;5;124m\\\u001b[39m\u001b[38;5;124mUAV-LDD\u001b[39m\u001b[38;5;124m\"\u001b[39m\n\u001b[1;32m----> 5\u001b[0m Dataset_UAV_train\u001b[38;5;241m=\u001b[39m\u001b[43mCustomDataset\u001b[49m\u001b[43m(\u001b[49m\u001b[43mroot_dir\u001b[49m\u001b[38;5;241;43m=\u001b[39;49m\u001b[43mUAV\u001b[49m\u001b[43m,\u001b[49m\u001b[43mtest\u001b[49m\u001b[38;5;241;43m=\u001b[39;49m\u001b[38;5;28;43;01mFalse\u001b[39;49;00m\u001b[43m,\u001b[49m\u001b[43muse_dem\u001b[49m\u001b[38;5;241;43m=\u001b[39;49m\u001b[38;5;28;43;01mTrue\u001b[39;49;00m\u001b[43m,\u001b[49m\u001b[43mdem_derives\u001b[49m\u001b[38;5;241;43m=\u001b[39;49m\u001b[38;5;28;43;01mFalse\u001b[39;49;00m\u001b[43m,\u001b[49m\u001b[43mtarget_value\u001b[49m\u001b[38;5;241;43m=\u001b[39;49m\u001b[38;5;241;43m0\u001b[39;49m\u001b[43m,\u001b[49m\u001b[43msource\u001b[49m\u001b[38;5;241;43m=\u001b[39;49m\u001b[38;5;28;43;01mNone\u001b[39;49;00m\u001b[43m)\u001b[49m\n\u001b[0;32m      6\u001b[0m Dataset_UAV_test\u001b[38;5;241m=\u001b[39mCustomDataset(root_dir\u001b[38;5;241m=\u001b[39mUAV,test\u001b[38;5;241m=\u001b[39m\u001b[38;5;28;01mTrue\u001b[39;00m,use_dem\u001b[38;5;241m=\u001b[39m\u001b[38;5;28;01mTrue\u001b[39;00m,dem_derives\u001b[38;5;241m=\u001b[39m\u001b[38;5;28;01mFalse\u001b[39;00m,target_value\u001b[38;5;241m=\u001b[39m\u001b[38;5;241m0\u001b[39m,source\u001b[38;5;241m=\u001b[39m\u001b[38;5;28;01mNone\u001b[39;00m)\n\u001b[0;32m      7\u001b[0m Dataset_SAT_train\u001b[38;5;241m=\u001b[39mCustomDataset(root_dir\u001b[38;5;241m=\u001b[39mSAT,test\u001b[38;5;241m=\u001b[39m\u001b[38;5;28;01mFalse\u001b[39;00m,use_dem\u001b[38;5;241m=\u001b[39m\u001b[38;5;28;01mTrue\u001b[39;00m,dem_derives\u001b[38;5;241m=\u001b[39m\u001b[38;5;28;01mFalse\u001b[39;00m,target_value\u001b[38;5;241m=\u001b[39m\u001b[38;5;241m0\u001b[39m,source\u001b[38;5;241m=\u001b[39m\u001b[38;5;124m'\u001b[39m\u001b[38;5;124mgaofen\u001b[39m\u001b[38;5;124m'\u001b[39m)\n",
      "File \u001b[1;32md:\\hunan_github\\dataloader.py:53\u001b[0m, in \u001b[0;36mCustomDataset.__init__\u001b[1;34m(self, root_dir, test, use_dem, dem_derives, source, target_value, NDVI, train_all)\u001b[0m\n\u001b[0;32m     51\u001b[0m         \u001b[38;5;28mself\u001b[39m\u001b[38;5;241m.\u001b[39mterrain_params_subfolders\u001b[38;5;241m=\u001b[39m\u001b[38;5;28msorted\u001b[39m(os\u001b[38;5;241m.\u001b[39mlistdir(\u001b[38;5;28mself\u001b[39m\u001b[38;5;241m.\u001b[39mdem_dir))\n\u001b[0;32m     52\u001b[0m     \u001b[38;5;28;01melse\u001b[39;00m:\n\u001b[1;32m---> 53\u001b[0m         \u001b[38;5;28mself\u001b[39m\u001b[38;5;241m.\u001b[39mdem_files\u001b[38;5;241m=\u001b[39m\u001b[38;5;28msorted\u001b[39m(\u001b[43mos\u001b[49m\u001b[38;5;241;43m.\u001b[39;49m\u001b[43mlistdir\u001b[49m\u001b[43m(\u001b[49m\u001b[43mos\u001b[49m\u001b[38;5;241;43m.\u001b[39;49m\u001b[43mpath\u001b[49m\u001b[38;5;241;43m.\u001b[39;49m\u001b[43mjoin\u001b[49m\u001b[43m(\u001b[49m\u001b[38;5;28;43mself\u001b[39;49m\u001b[38;5;241;43m.\u001b[39;49m\u001b[43mdem_dir\u001b[49m\u001b[43m,\u001b[49m\u001b[38;5;124;43m'\u001b[39;49m\u001b[38;5;124;43mdem\u001b[39;49m\u001b[38;5;124;43m'\u001b[39;49m\u001b[43m)\u001b[49m\u001b[43m)\u001b[49m)\n\u001b[0;32m     54\u001b[0m \u001b[38;5;28;01melse\u001b[39;00m:\n\u001b[0;32m     55\u001b[0m     \u001b[38;5;28mself\u001b[39m\u001b[38;5;241m.\u001b[39mdem_dir\u001b[38;5;241m=\u001b[39m\u001b[38;5;28;01mNone\u001b[39;00m\n",
      "\u001b[1;31mFileNotFoundError\u001b[0m: [WinError 3] 系统找不到指定的路径。: 'D:\\\\hunan_github\\\\RLZX-LDD\\\\UAV-LDD\\\\train\\\\DEM_derives\\\\dem'"
     ]
    }
   ],
   "source": [
    "from dataloader import *\n",
    "## Note: Please use absolute path in the .ipynb scripts, but you can use relative path in the .py scripts. This is due to the feature of our dataloader.py.\n",
    "SAT=r\"D:\\hunan_github\\RLZX-LDD\\SAT-LDD\"  \n",
    "UAV=r\"D:\\hunan_github\\RLZX-LDD\\UAV-LDD\"\n",
    "Dataset_UAV_train=CustomDataset(root_dir=UAV,test=False,use_dem=True,dem_derives=False,target_value=0,source=None)\n",
    "Dataset_UAV_test=CustomDataset(root_dir=UAV,test=True,use_dem=True,dem_derives=False,target_value=0,source=None)\n",
    "Dataset_SAT_train=CustomDataset(root_dir=SAT,test=False,use_dem=True,dem_derives=False,target_value=0,source='gaofen')\n",
    "Dataset_SAT_test=CustomDataset(root_dir=SAT,test=True,use_dem=True,dem_derives=False,target_value=0,source='gaofen')\n",
    "RGBD_UAV_train=Dataset_UAV_train\n",
    "RGBD_UAV_test=Dataset_UAV_test\n",
    "RGBD_SAT_train=Fliter_Dataset(Dataset_SAT_train,3)  ## deleting the NIR band\n",
    "RGBD_SAT_test=Fliter_Dataset(Dataset_SAT_test,3)   ## deleting the NIR band\n",
    "print(f\"the volume of RGBD_UAV train: {len(RGBD_UAV_train)}\")\n",
    "print(f\"the volume of RGBD_UAV test: {len(RGBD_UAV_test)}\")\n",
    "print(f\"the volume of RGBD_SAT train: {len(RGBD_SAT_train)}\")\n",
    "print(f\"the volume of RGBD_SAT test: {len(RGBD_SAT_test)}\")\n"
   ]
  }
 ],
 "metadata": {
  "language_info": {
   "name": "python"
  }
 },
 "nbformat": 4,
 "nbformat_minor": 2
}
